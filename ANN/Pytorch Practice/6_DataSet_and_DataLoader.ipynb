{
 "cells": [
  {
   "cell_type": "markdown",
   "id": "df3d178b",
   "metadata": {},
   "source": [
    "### DataLoading using builtin data_loader"
   ]
  },
  {
   "cell_type": "code",
   "execution_count": 38,
   "id": "34a0ec88",
   "metadata": {},
   "outputs": [],
   "source": [
    "from sklearn.datasets import make_classification\n",
    "import torch"
   ]
  },
  {
   "cell_type": "code",
   "execution_count": 55,
   "id": "2942d0f4",
   "metadata": {},
   "outputs": [],
   "source": [
    "X, y = make_classification(\n",
    "    n_samples = 10,\n",
    "    n_features = 2,\n",
    "    n_informative = 2,\n",
    "    n_redundant = 0, \n",
    "    n_classes = 2, \n",
    "    random_state = 42\n",
    ")"
   ]
  },
  {
   "cell_type": "code",
   "execution_count": 56,
   "id": "a64b0391",
   "metadata": {},
   "outputs": [
    {
     "data": {
      "text/plain": [
       "array([[ 1.06833894, -0.97007347],\n",
       "       [-1.14021544, -0.83879234],\n",
       "       [-2.8953973 ,  1.97686236],\n",
       "       [-0.72063436, -0.96059253],\n",
       "       [-1.96287438, -0.99225135],\n",
       "       [-0.9382051 , -0.54304815],\n",
       "       [ 1.72725924, -1.18582677],\n",
       "       [ 1.77736657,  1.51157598],\n",
       "       [ 1.89969252,  0.83444483],\n",
       "       [-0.58723065, -1.97171753]])"
      ]
     },
     "execution_count": 56,
     "metadata": {},
     "output_type": "execute_result"
    }
   ],
   "source": [
    "X"
   ]
  },
  {
   "cell_type": "code",
   "execution_count": 41,
   "id": "a61c5db9",
   "metadata": {},
   "outputs": [
    {
     "data": {
      "text/plain": [
       "(10,)"
      ]
     },
     "execution_count": 41,
     "metadata": {},
     "output_type": "execute_result"
    }
   ],
   "source": [
    "y.shape"
   ]
  },
  {
   "cell_type": "code",
   "execution_count": 57,
   "id": "9d7e9ea7",
   "metadata": {},
   "outputs": [],
   "source": [
    "X = torch.tensor(X, dtype=torch.float32)\n",
    "y = torch.tensor(y, dtype=torch.long)"
   ]
  },
  {
   "cell_type": "code",
   "execution_count": 58,
   "id": "98b7fdd5",
   "metadata": {},
   "outputs": [
    {
     "data": {
      "text/plain": [
       "tensor([1, 0, 0, 0, 0, 1, 1, 1, 1, 0])"
      ]
     },
     "execution_count": 58,
     "metadata": {},
     "output_type": "execute_result"
    }
   ],
   "source": [
    "y"
   ]
  },
  {
   "cell_type": "code",
   "execution_count": 59,
   "id": "300e9358",
   "metadata": {},
   "outputs": [],
   "source": [
    "from torch.utils.data import Dataset, DataLoader\n"
   ]
  },
  {
   "cell_type": "code",
   "execution_count": 45,
   "id": "7d1cc610",
   "metadata": {},
   "outputs": [],
   "source": [
    "class CustomDataset(Dataset):\n",
    "\n",
    "    def __init__(self, features, labels):\n",
    "        self.features = features\n",
    "        self.labels = labels\n",
    "    \n",
    "    def __len__(self):\n",
    "        return self.features.shape[0]\n",
    "    \n",
    "    def __getitem__(self, index):\n",
    "        return self.features[index]"
   ]
  },
  {
   "cell_type": "code",
   "execution_count": 46,
   "id": "9e02e9f8",
   "metadata": {},
   "outputs": [],
   "source": [
    "dataset = CustomDataset(X,y)"
   ]
  },
  {
   "cell_type": "code",
   "execution_count": 47,
   "id": "e04923d5",
   "metadata": {},
   "outputs": [
    {
     "data": {
      "text/plain": [
       "10"
      ]
     },
     "execution_count": 47,
     "metadata": {},
     "output_type": "execute_result"
    }
   ],
   "source": [
    "len(dataset)"
   ]
  },
  {
   "cell_type": "code",
   "execution_count": 48,
   "id": "1a7e4c78",
   "metadata": {},
   "outputs": [
    {
     "data": {
      "text/plain": [
       "tensor([ 1.0683, -0.9701])"
      ]
     },
     "execution_count": 48,
     "metadata": {},
     "output_type": "execute_result"
    }
   ],
   "source": [
    "dataset[0]"
   ]
  },
  {
   "cell_type": "code",
   "execution_count": 49,
   "id": "e7afd3a2",
   "metadata": {},
   "outputs": [],
   "source": [
    "dataLoader = DataLoader(dataset, batch_size = 2, shuffle=True) "
   ]
  },
  {
   "cell_type": "code",
   "execution_count": 60,
   "id": "9fb3d42b",
   "metadata": {},
   "outputs": [],
   "source": [
    "class CustomDataset(Dataset):\n",
    "\n",
    "    def __init__(self, features, labels):\n",
    "        self.features = features\n",
    "        self.labels = labels\n",
    "    def __len__(self):\n",
    "        return self.features.shape[0]\n",
    "    \n",
    "    def __getitem__(self, index):\n",
    "        return self.features[index], self.labels[index]\n"
   ]
  },
  {
   "cell_type": "code",
   "execution_count": 65,
   "id": "0435263a",
   "metadata": {},
   "outputs": [],
   "source": [
    "dataset = CustomDataset(X,y)"
   ]
  },
  {
   "cell_type": "code",
   "execution_count": 62,
   "id": "7e32deb8",
   "metadata": {},
   "outputs": [
    {
     "data": {
      "text/plain": [
       "10"
      ]
     },
     "execution_count": 62,
     "metadata": {},
     "output_type": "execute_result"
    }
   ],
   "source": [
    "len(dataset)"
   ]
  },
  {
   "cell_type": "code",
   "execution_count": 66,
   "id": "99b8d39a",
   "metadata": {},
   "outputs": [
    {
     "data": {
      "text/plain": [
       "(tensor([-2.8954,  1.9769]), tensor(0))"
      ]
     },
     "execution_count": 66,
     "metadata": {},
     "output_type": "execute_result"
    }
   ],
   "source": [
    "dataset[2]"
   ]
  },
  {
   "cell_type": "code",
   "execution_count": 69,
   "id": "d170a621",
   "metadata": {},
   "outputs": [],
   "source": [
    "dataLoader = DataLoader(dataset, batch_size = 2, shuffle=False) "
   ]
  },
  {
   "cell_type": "code",
   "execution_count": 70,
   "id": "1937f993",
   "metadata": {},
   "outputs": [
    {
     "name": "stdout",
     "output_type": "stream",
     "text": [
      "tensor([[ 1.0683, -0.9701],\n",
      "        [-1.1402, -0.8388]])\n",
      "tensor([1, 0])\n",
      "--------------------------------------------------\n",
      "tensor([[-2.8954,  1.9769],\n",
      "        [-0.7206, -0.9606]])\n",
      "tensor([0, 0])\n",
      "--------------------------------------------------\n",
      "tensor([[-1.9629, -0.9923],\n",
      "        [-0.9382, -0.5430]])\n",
      "tensor([0, 1])\n",
      "--------------------------------------------------\n",
      "tensor([[ 1.7273, -1.1858],\n",
      "        [ 1.7774,  1.5116]])\n",
      "tensor([1, 1])\n",
      "--------------------------------------------------\n",
      "tensor([[ 1.8997,  0.8344],\n",
      "        [-0.5872, -1.9717]])\n",
      "tensor([1, 0])\n",
      "--------------------------------------------------\n"
     ]
    }
   ],
   "source": [
    "for batch_features, batch_labels in dataLoader:\n",
    "    print(batch_features)\n",
    "    print(batch_labels)\n",
    "    print(\"-\"*50)"
   ]
  }
 ],
 "metadata": {
  "kernelspec": {
   "display_name": "Python 3",
   "language": "python",
   "name": "python3"
  },
  "language_info": {
   "codemirror_mode": {
    "name": "ipython",
    "version": 3
   },
   "file_extension": ".py",
   "mimetype": "text/x-python",
   "name": "python",
   "nbconvert_exporter": "python",
   "pygments_lexer": "ipython3",
   "version": "3.10.7"
  }
 },
 "nbformat": 4,
 "nbformat_minor": 5
}
