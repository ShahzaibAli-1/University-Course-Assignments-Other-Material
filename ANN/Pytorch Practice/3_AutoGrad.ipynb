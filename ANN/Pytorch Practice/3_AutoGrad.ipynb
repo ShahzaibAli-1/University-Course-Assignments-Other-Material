{
  "cells": [
    {
      "cell_type": "code",
      "execution_count": 21,
      "metadata": {
        "colab": {
          "base_uri": "https://localhost:8080/"
        },
        "id": "ARMkR6cn7Hl_",
        "outputId": "93413be0-4abd-46c4-96fb-b0bf07230639"
      },
      "outputs": [
        {
          "name": "stdout",
          "output_type": "stream",
          "text": [
            "2.6.0+cu124\n"
          ]
        }
      ],
      "source": [
        "import torch\n",
        "print(torch.__version__)"
      ]
    },
    {
      "cell_type": "markdown",
      "metadata": {
        "id": "Ux_nzHhQ79MN"
      },
      "source": [
        "### Calculation of derivate manually"
      ]
    },
    {
      "cell_type": "code",
      "execution_count": 22,
      "metadata": {
        "colab": {
          "base_uri": "https://localhost:8080/"
        },
        "id": "vFuHWJIr8CFr",
        "outputId": "ef291489-5e53-4302-d2de-1421446c7779"
      },
      "outputs": [
        {
          "name": "stdout",
          "output_type": "stream",
          "text": [
            "6\n"
          ]
        }
      ],
      "source": [
        "##e.g for x**2\n",
        "def dy_dx(x):\n",
        "  return 2*x\n",
        "print(dy_dx(3))"
      ]
    },
    {
      "cell_type": "code",
      "execution_count": 23,
      "metadata": {
        "colab": {
          "base_uri": "https://localhost:8080/"
        },
        "id": "4Dh_apO_8P_b",
        "outputId": "4b7040fe-2199-41cf-c48c-41f44187e7e7"
      },
      "outputs": [
        {
          "name": "stdout",
          "output_type": "stream",
          "text": [
            "-5.466781571308061\n"
          ]
        }
      ],
      "source": [
        "import math\n",
        "# incase if function is y = x**2 and z = siny\n",
        "def dz_dx(x):\n",
        "  return 2*x* math.cos(x**2)\n",
        "\n",
        "print(dz_dx(3))"
      ]
    },
    {
      "cell_type": "code",
      "execution_count": null,
      "metadata": {
        "id": "Xz_xT4gv9stL"
      },
      "outputs": [],
      "source": [
        "#### Implementing first function dy_dx using grad function of tensor"
      ]
    },
    {
      "cell_type": "code",
      "execution_count": 31,
      "metadata": {
        "colab": {
          "base_uri": "https://localhost:8080/"
        },
        "id": "IeMGZ2Xu83aD",
        "outputId": "958a0086-b432-4a61-aef4-e23c6b6b8375"
      },
      "outputs": [
        {
          "name": "stdout",
          "output_type": "stream",
          "text": [
            "tensor(3., requires_grad=True)\n"
          ]
        }
      ],
      "source": [
        "x = torch.tensor(3.0, requires_grad=True)\n",
        "print(x)"
      ]
    },
    {
      "cell_type": "code",
      "execution_count": 32,
      "metadata": {
        "colab": {
          "base_uri": "https://localhost:8080/"
        },
        "id": "kKYfkfm59GUN",
        "outputId": "24d038bc-7189-482c-edca-2023aea3eebf"
      },
      "outputs": [
        {
          "name": "stdout",
          "output_type": "stream",
          "text": [
            "tensor(9., grad_fn=<PowBackward0>)\n"
          ]
        }
      ],
      "source": [
        "y = x**2\n",
        "print(y)"
      ]
    },
    {
      "cell_type": "code",
      "execution_count": 34,
      "metadata": {
        "id": "IUirdXVp9cxU"
      },
      "outputs": [],
      "source": [
        "y.backward()"
      ]
    },
    {
      "cell_type": "code",
      "execution_count": 35,
      "metadata": {
        "colab": {
          "base_uri": "https://localhost:8080/"
        },
        "id": "_EWE6nfo9hjg",
        "outputId": "5abd363e-0413-45f5-87c2-50734a04767b"
      },
      "outputs": [
        {
          "name": "stdout",
          "output_type": "stream",
          "text": [
            "tensor(6.)\n"
          ]
        }
      ],
      "source": [
        "print(x.grad)"
      ]
    },
    {
      "cell_type": "code",
      "execution_count": null,
      "metadata": {
        "id": "PeVq5NW191Kg"
      },
      "outputs": [],
      "source": [
        "#### Implementing second function dz_dx using grad function of tensor"
      ]
    },
    {
      "cell_type": "code",
      "execution_count": 36,
      "metadata": {
        "colab": {
          "base_uri": "https://localhost:8080/"
        },
        "id": "OjE5SnIc97r_",
        "outputId": "8515c3b1-ac7d-4d3f-aa1e-e75d7136aede"
      },
      "outputs": [
        {
          "name": "stdout",
          "output_type": "stream",
          "text": [
            "tensor(3., requires_grad=True)\n"
          ]
        }
      ],
      "source": [
        "x = torch.tensor(3.0, requires_grad=True)\n",
        "print(x)"
      ]
    },
    {
      "cell_type": "code",
      "execution_count": 37,
      "metadata": {
        "colab": {
          "base_uri": "https://localhost:8080/"
        },
        "id": "YaWShZlC-Hcb",
        "outputId": "cd6ed369-3ff8-4c7b-9a2d-365f0f29ff6c"
      },
      "outputs": [
        {
          "name": "stdout",
          "output_type": "stream",
          "text": [
            "tensor(9., grad_fn=<PowBackward0>)\n"
          ]
        }
      ],
      "source": [
        "y = x**2\n",
        "print(y)"
      ]
    },
    {
      "cell_type": "code",
      "execution_count": 38,
      "metadata": {
        "colab": {
          "base_uri": "https://localhost:8080/"
        },
        "id": "3kLDYnIO-jJY",
        "outputId": "61f48e17-4111-42a5-8301-5c7a510aadcf"
      },
      "outputs": [
        {
          "name": "stdout",
          "output_type": "stream",
          "text": [
            "tensor(0.4121, grad_fn=<SinBackward0>)\n"
          ]
        }
      ],
      "source": [
        "z = torch.sin(y)\n",
        "print(z)"
      ]
    },
    {
      "cell_type": "code",
      "execution_count": 39,
      "metadata": {
        "id": "0IZi85iz-4Ps"
      },
      "outputs": [],
      "source": [
        "z.backward()"
      ]
    },
    {
      "cell_type": "code",
      "execution_count": 40,
      "metadata": {
        "colab": {
          "base_uri": "https://localhost:8080/"
        },
        "id": "Yh2gAbVM-itG",
        "outputId": "a3785320-8dd3-4bcb-acf9-5d74348ee491"
      },
      "outputs": [
        {
          "name": "stdout",
          "output_type": "stream",
          "text": [
            "tensor(-5.4668)\n"
          ]
        }
      ],
      "source": [
        "print(x.grad)"
      ]
    },
    {
      "cell_type": "markdown",
      "metadata": {
        "id": "ncGTRfujPaTZ"
      },
      "source": [
        "## Implementing on a real nueral network"
      ]
    },
    {
      "cell_type": "code",
      "execution_count": 41,
      "metadata": {
        "id": "GZcis1bxPWT-"
      },
      "outputs": [],
      "source": [
        "# Inputs\n",
        "x = torch.tensor(6.7)  # Input feature\n",
        "y = torch.tensor(0.0)  # True label (binary)\n",
        "\n",
        "w = torch.tensor(1.0)  # Weight\n",
        "b = torch.tensor(0.0)  # Bias"
      ]
    },
    {
      "attachments": {
        "image.png": {
          "image/png": "[encoded data removed]"
        }
      },
      "cell_type": "markdown",
      "metadata": {},
      "source": [
        "![image.png](attachment:image.png)"
      ]
    },
    {
      "cell_type": "code",
      "execution_count": 42,
      "metadata": {
        "id": "xw0EUsBcPYSw"
      },
      "outputs": [],
      "source": [
        "# Binary Cross-Entropy Loss for scalar\n",
        "def binary_cross_entropy_loss(prediction, target):\n",
        "    epsilon = 1e-8  # To prevent log(0)\n",
        "    prediction = torch.clamp(prediction, epsilon, 1 - epsilon)\n",
        "    return -(target * torch.log(prediction) + (1 - target) * torch.log(1 - prediction))"
      ]
    },
    {
      "cell_type": "code",
      "execution_count": 43,
      "metadata": {
        "id": "ku_hSI1aPdR6"
      },
      "outputs": [],
      "source": [
        "# Forward pass\n",
        "z = w * x + b  # Weighted sum (linear part)\n",
        "y_pred = torch.sigmoid(z)  # Predicted probability\n",
        "\n",
        "# Compute binary cross-entropy loss\n",
        "loss = binary_cross_entropy_loss(y_pred, y)"
      ]
    },
    {
      "cell_type": "markdown",
      "metadata": {
        "id": "6L9HSSQsPqyv"
      },
      "source": [
        "### Manual calculation of derivatives"
      ]
    },
    {
      "cell_type": "code",
      "execution_count": 44,
      "metadata": {
        "id": "c5P0CpkUPnC_"
      },
      "outputs": [],
      "source": [
        "# Derivatives:\n",
        "# 1. dL/d(y_pred): Loss with respect to the prediction (y_pred)\n",
        "dloss_dy_pred = (y_pred - y)/(y_pred*(1-y_pred))\n",
        "\n",
        "# 2. dy_pred/dz: Prediction (y_pred) with respect to z (sigmoid derivative)\n",
        "dy_pred_dz = y_pred * (1 - y_pred)\n",
        "\n",
        "# 3. dz/dw and dz/db: z with respect to w and b\n",
        "dz_dw = x  # dz/dw = x\n",
        "dz_db = 1  # dz/db = 1 (bias contributes directly to z)\n",
        "\n",
        "dL_dw = dloss_dy_pred * dy_pred_dz * dz_dw\n",
        "dL_db = dloss_dy_pred * dy_pred_dz * dz_db"
      ]
    },
    {
      "cell_type": "code",
      "execution_count": 45,
      "metadata": {
        "colab": {
          "base_uri": "https://localhost:8080/"
        },
        "id": "wUtCq-6VPyev",
        "outputId": "96deaef7-d2d0-4e6d-e4c9-fa33be52d4a6"
      },
      "outputs": [
        {
          "name": "stdout",
          "output_type": "stream",
          "text": [
            "Manual Gradient of loss w.r.t weight (dw): 6.691762447357178\n",
            "Manual Gradient of loss w.r.t bias (db): 0.998770534992218\n"
          ]
        }
      ],
      "source": [
        "print(f\"Manual Gradient of loss w.r.t weight (dw): {dL_dw}\")\n",
        "print(f\"Manual Gradient of loss w.r.t bias (db): {dL_db}\")"
      ]
    },
    {
      "cell_type": "markdown",
      "metadata": {
        "id": "cbpjTic-P0R2"
      },
      "source": [
        "### Now using auto grad of pytorch"
      ]
    },
    {
      "cell_type": "code",
      "execution_count": 46,
      "metadata": {
        "id": "U-JOpSnoP3vX"
      },
      "outputs": [],
      "source": [
        "x = torch.tensor(6.7)\n",
        "y = torch.tensor(0.0)\n",
        "w = torch.tensor(1.0, requires_grad=True)\n",
        "b = torch.tensor(0.0, requires_grad=True)"
      ]
    },
    {
      "cell_type": "code",
      "execution_count": 47,
      "metadata": {
        "colab": {
          "base_uri": "https://localhost:8080/"
        },
        "id": "l9eAUFdhP7L0",
        "outputId": "4082a0ba-4f57-450c-8069-abcefa9b20dd"
      },
      "outputs": [
        {
          "data": {
            "text/plain": [
              "tensor(6.7000, grad_fn=<AddBackward0>)"
            ]
          },
          "execution_count": 47,
          "metadata": {},
          "output_type": "execute_result"
        }
      ],
      "source": [
        "z = w*x +b\n",
        "z"
      ]
    },
    {
      "cell_type": "code",
      "execution_count": 48,
      "metadata": {
        "colab": {
          "base_uri": "https://localhost:8080/"
        },
        "id": "Mr5jB0UwQCS5",
        "outputId": "c159744f-728d-4900-e45c-246395268f79"
      },
      "outputs": [
        {
          "data": {
            "text/plain": [
              "tensor(0.9988, grad_fn=<SigmoidBackward0>)"
            ]
          },
          "execution_count": 48,
          "metadata": {},
          "output_type": "execute_result"
        }
      ],
      "source": [
        "y_pred = torch.sigmoid(z)\n",
        "y_pred"
      ]
    },
    {
      "cell_type": "code",
      "execution_count": 49,
      "metadata": {
        "colab": {
          "base_uri": "https://localhost:8080/"
        },
        "id": "61ZzZmd3QNEO",
        "outputId": "7818d931-0977-4db6-d930-7d43941b70d0"
      },
      "outputs": [
        {
          "data": {
            "text/plain": [
              "tensor(6.7012, grad_fn=<NegBackward0>)"
            ]
          },
          "execution_count": 49,
          "metadata": {},
          "output_type": "execute_result"
        }
      ],
      "source": [
        "loss = binary_cross_entropy_loss(y_pred, y)\n",
        "loss"
      ]
    },
    {
      "cell_type": "code",
      "execution_count": 50,
      "metadata": {
        "id": "qdTDN-KlQVZq"
      },
      "outputs": [],
      "source": [
        "loss.backward()"
      ]
    },
    {
      "cell_type": "code",
      "execution_count": 52,
      "metadata": {
        "colab": {
          "base_uri": "https://localhost:8080/"
        },
        "id": "24jnoYFXQY6U",
        "outputId": "464e2b4c-5a59-4880-bab2-d155aab9e2fe"
      },
      "outputs": [
        {
          "name": "stdout",
          "output_type": "stream",
          "text": [
            "tensor(6.6918)\n",
            "tensor(0.9988)\n"
          ]
        }
      ],
      "source": [
        "print(w.grad)\n",
        "print(b.grad)"
      ]
    },
    {
      "cell_type": "markdown",
      "metadata": {
        "id": "qDAKhfxbQvBc"
      },
      "source": [
        "![image.png](data:image/png;base64,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)"
      ]
    },
    {
      "cell_type": "code",
      "execution_count": 53,
      "metadata": {
        "id": "mbYcTc5MQZjr"
      },
      "outputs": [],
      "source": [
        "x = torch.tensor([1.0,2.0,3.0], requires_grad = True)"
      ]
    },
    {
      "cell_type": "code",
      "execution_count": 54,
      "metadata": {
        "colab": {
          "base_uri": "https://localhost:8080/"
        },
        "id": "AjZLMQoRU2Dd",
        "outputId": "2d839431-1f9f-4328-e464-996fd6c6236f"
      },
      "outputs": [
        {
          "data": {
            "text/plain": [
              "tensor([1., 2., 3.], requires_grad=True)"
            ]
          },
          "execution_count": 54,
          "metadata": {},
          "output_type": "execute_result"
        }
      ],
      "source": [
        "x"
      ]
    },
    {
      "cell_type": "code",
      "execution_count": 56,
      "metadata": {
        "colab": {
          "base_uri": "https://localhost:8080/"
        },
        "id": "c_Z99ar9U316",
        "outputId": "69f5fceb-ee2a-4000-fe66-2637aa725a91"
      },
      "outputs": [
        {
          "data": {
            "text/plain": [
              "tensor(4.6667, grad_fn=<MeanBackward0>)"
            ]
          },
          "execution_count": 56,
          "metadata": {},
          "output_type": "execute_result"
        }
      ],
      "source": [
        "y = (x**2).mean()\n",
        "y"
      ]
    },
    {
      "cell_type": "code",
      "execution_count": 57,
      "metadata": {
        "id": "021tTB1WVCEv"
      },
      "outputs": [],
      "source": [
        "y.backward()"
      ]
    },
    {
      "cell_type": "code",
      "execution_count": 59,
      "metadata": {
        "colab": {
          "base_uri": "https://localhost:8080/"
        },
        "id": "QLvaNubpVEmX",
        "outputId": "c26467ed-bfbf-4c27-a271-fc3784dc8842"
      },
      "outputs": [
        {
          "data": {
            "text/plain": [
              "tensor([0.6667, 1.3333, 2.0000])"
            ]
          },
          "execution_count": 59,
          "metadata": {},
          "output_type": "execute_result"
        }
      ],
      "source": [
        "x.grad"
      ]
    },
    {
      "cell_type": "markdown",
      "metadata": {
        "id": "wiRyIFHBVc1m"
      },
      "source": [
        "![image.png](data:image/png;base64,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)"
      ]
    },
    {
      "cell_type": "code",
      "execution_count": 60,
      "metadata": {
        "colab": {
          "base_uri": "https://localhost:8080/"
        },
        "id": "Gpn3BeqpVi3K",
        "outputId": "bb053864-fc16-4ab1-9c48-b5afb181aea3"
      },
      "outputs": [
        {
          "data": {
            "text/plain": [
              "tensor([0., 0., 0.])"
            ]
          },
          "execution_count": 60,
          "metadata": {},
          "output_type": "execute_result"
        }
      ],
      "source": [
        "x.grad.zero_() # incase of multiple repititions"
      ]
    },
    {
      "cell_type": "code",
      "execution_count": null,
      "metadata": {
        "id": "lFTvVCQBWc2v"
      },
      "outputs": [],
      "source": [
        "## to disable gradient tracking\n",
        "#option 1 - requires_grad_(False)\n",
        "#option 2 - detach()\n",
        "#option 3 - torch.no_grad()"
      ]
    },
    {
      "cell_type": "code",
      "execution_count": 63,
      "metadata": {
        "colab": {
          "base_uri": "https://localhost:8080/"
        },
        "id": "6TGKw09sXDR-",
        "outputId": "f3cb27d9-561d-45be-82e2-8e46352a7ec0"
      },
      "outputs": [
        {
          "data": {
            "text/plain": [
              "tensor([1., 2., 3.])"
            ]
          },
          "execution_count": 63,
          "metadata": {},
          "output_type": "execute_result"
        }
      ],
      "source": [
        "x.requires_grad_(False)"
      ]
    },
    {
      "cell_type": "code",
      "execution_count": 64,
      "metadata": {
        "colab": {
          "base_uri": "https://localhost:8080/"
        },
        "id": "NbyMYmg2Xh9H",
        "outputId": "235da414-f673-4ef0-e736-00fbde1c0864"
      },
      "outputs": [
        {
          "data": {
            "text/plain": [
              "tensor([1., 2., 3.])"
            ]
          },
          "execution_count": 64,
          "metadata": {},
          "output_type": "execute_result"
        }
      ],
      "source": [
        "x"
      ]
    },
    {
      "cell_type": "code",
      "execution_count": 65,
      "metadata": {
        "id": "HxVbeQcFXkGE"
      },
      "outputs": [],
      "source": [
        "y = x**2"
      ]
    },
    {
      "cell_type": "code",
      "execution_count": 66,
      "metadata": {
        "colab": {
          "base_uri": "https://localhost:8080/",
          "height": 287
        },
        "id": "3WcKVOo9XnUy",
        "outputId": "920e8980-1d92-42c7-960e-4f1c7c736d7c"
      },
      "outputs": [
        {
          "ename": "RuntimeError",
          "evalue": "element 0 of tensors does not require grad and does not have a grad_fn",
          "output_type": "error",
          "traceback": [
            "\u001b[0;31m---------------------------------------------------------------------------\u001b[0m",
            "\u001b[0;31mRuntimeError\u001b[0m                              Traceback (most recent call last)",
            "\u001b[0;32m<ipython-input-66-ab75bb780f4c>\u001b[0m in \u001b[0;36m<cell line: 0>\u001b[0;34m()\u001b[0m\n\u001b[0;32m----> 1\u001b[0;31m \u001b[0my\u001b[0m\u001b[0;34m.\u001b[0m\u001b[0mbackward\u001b[0m\u001b[0;34m(\u001b[0m\u001b[0;34m)\u001b[0m\u001b[0;34m\u001b[0m\u001b[0;34m\u001b[0m\u001b[0m\n\u001b[0m",
            "\u001b[0;32m/usr/local/lib/python3.11/dist-packages/torch/_tensor.py\u001b[0m in \u001b[0;36mbackward\u001b[0;34m(self, gradient, retain_graph, create_graph, inputs)\u001b[0m\n\u001b[1;32m    624\u001b[0m                 \u001b[0minputs\u001b[0m\u001b[0;34m=\u001b[0m\u001b[0minputs\u001b[0m\u001b[0;34m,\u001b[0m\u001b[0;34m\u001b[0m\u001b[0;34m\u001b[0m\u001b[0m\n\u001b[1;32m    625\u001b[0m             )\n\u001b[0;32m--> 626\u001b[0;31m         torch.autograd.backward(\n\u001b[0m\u001b[1;32m    627\u001b[0m             \u001b[0mself\u001b[0m\u001b[0;34m,\u001b[0m \u001b[0mgradient\u001b[0m\u001b[0;34m,\u001b[0m \u001b[0mretain_graph\u001b[0m\u001b[0;34m,\u001b[0m \u001b[0mcreate_graph\u001b[0m\u001b[0;34m,\u001b[0m \u001b[0minputs\u001b[0m\u001b[0;34m=\u001b[0m\u001b[0minputs\u001b[0m\u001b[0;34m\u001b[0m\u001b[0;34m\u001b[0m\u001b[0m\n\u001b[1;32m    628\u001b[0m         )\n",
            "\u001b[0;32m/usr/local/lib/python3.11/dist-packages/torch/autograd/__init__.py\u001b[0m in \u001b[0;36mbackward\u001b[0;34m(tensors, grad_tensors, retain_graph, create_graph, grad_variables, inputs)\u001b[0m\n\u001b[1;32m    345\u001b[0m     \u001b[0;31m# some Python versions print out the first line of a multi-line function\u001b[0m\u001b[0;34m\u001b[0m\u001b[0;34m\u001b[0m\u001b[0m\n\u001b[1;32m    346\u001b[0m     \u001b[0;31m# calls in the traceback and some print out the last line\u001b[0m\u001b[0;34m\u001b[0m\u001b[0;34m\u001b[0m\u001b[0m\n\u001b[0;32m--> 347\u001b[0;31m     _engine_run_backward(\n\u001b[0m\u001b[1;32m    348\u001b[0m         \u001b[0mtensors\u001b[0m\u001b[0;34m,\u001b[0m\u001b[0;34m\u001b[0m\u001b[0;34m\u001b[0m\u001b[0m\n\u001b[1;32m    349\u001b[0m         \u001b[0mgrad_tensors_\u001b[0m\u001b[0;34m,\u001b[0m\u001b[0;34m\u001b[0m\u001b[0;34m\u001b[0m\u001b[0m\n",
            "\u001b[0;32m/usr/local/lib/python3.11/dist-packages/torch/autograd/graph.py\u001b[0m in \u001b[0;36m_engine_run_backward\u001b[0;34m(t_outputs, *args, **kwargs)\u001b[0m\n\u001b[1;32m    821\u001b[0m         \u001b[0munregister_hooks\u001b[0m \u001b[0;34m=\u001b[0m \u001b[0m_register_logging_hooks_on_whole_graph\u001b[0m\u001b[0;34m(\u001b[0m\u001b[0mt_outputs\u001b[0m\u001b[0;34m)\u001b[0m\u001b[0;34m\u001b[0m\u001b[0;34m\u001b[0m\u001b[0m\n\u001b[1;32m    822\u001b[0m     \u001b[0;32mtry\u001b[0m\u001b[0;34m:\u001b[0m\u001b[0;34m\u001b[0m\u001b[0;34m\u001b[0m\u001b[0m\n\u001b[0;32m--> 823\u001b[0;31m         return Variable._execution_engine.run_backward(  # Calls into the C++ engine to run the backward pass\n\u001b[0m\u001b[1;32m    824\u001b[0m             \u001b[0mt_outputs\u001b[0m\u001b[0;34m,\u001b[0m \u001b[0;34m*\u001b[0m\u001b[0margs\u001b[0m\u001b[0;34m,\u001b[0m \u001b[0;34m**\u001b[0m\u001b[0mkwargs\u001b[0m\u001b[0;34m\u001b[0m\u001b[0;34m\u001b[0m\u001b[0m\n\u001b[1;32m    825\u001b[0m         )  # Calls into the C++ engine to run the backward pass\n",
            "\u001b[0;31mRuntimeError\u001b[0m: element 0 of tensors does not require grad and does not have a grad_fn"
          ]
        }
      ],
      "source": [
        "#will not work because now gradient is off\n",
        "y.backward()"
      ]
    },
    {
      "cell_type": "code",
      "execution_count": 67,
      "metadata": {
        "colab": {
          "base_uri": "https://localhost:8080/"
        },
        "id": "UpDpXLgxXtSL",
        "outputId": "1dd8f796-a25b-470f-8d0a-1782ecd1ec0f"
      },
      "outputs": [
        {
          "data": {
            "text/plain": [
              "tensor(2., requires_grad=True)"
            ]
          },
          "execution_count": 67,
          "metadata": {},
          "output_type": "execute_result"
        }
      ],
      "source": [
        "x = torch.tensor(2.0, requires_grad =True)\n",
        "x"
      ]
    },
    {
      "cell_type": "code",
      "execution_count": 68,
      "metadata": {
        "colab": {
          "base_uri": "https://localhost:8080/"
        },
        "id": "WnE7MMOZXzqr",
        "outputId": "4ed5446a-5dc6-47b3-e868-c7a976066987"
      },
      "outputs": [
        {
          "data": {
            "text/plain": [
              "tensor(2.)"
            ]
          },
          "execution_count": 68,
          "metadata": {},
          "output_type": "execute_result"
        }
      ],
      "source": [
        "z = x.detach()\n",
        "z"
      ]
    },
    {
      "cell_type": "code",
      "execution_count": 69,
      "metadata": {
        "id": "KI2JusYxX176"
      },
      "outputs": [],
      "source": [
        "y = x**2"
      ]
    },
    {
      "cell_type": "code",
      "execution_count": 70,
      "metadata": {
        "id": "c0D3KzsRX4OM"
      },
      "outputs": [],
      "source": [
        "#this will work\n",
        "y.backward()"
      ]
    },
    {
      "cell_type": "code",
      "execution_count": 71,
      "metadata": {
        "colab": {
          "base_uri": "https://localhost:8080/"
        },
        "id": "RpwqerSQX7V1",
        "outputId": "9c823d63-a525-4b1b-b1d4-498711ec4d22"
      },
      "outputs": [
        {
          "data": {
            "text/plain": [
              "tensor(4.)"
            ]
          },
          "execution_count": 71,
          "metadata": {},
          "output_type": "execute_result"
        }
      ],
      "source": [
        "x.grad"
      ]
    },
    {
      "cell_type": "code",
      "execution_count": null,
      "metadata": {
        "id": "KAPdMIqcX8y0"
      },
      "outputs": [],
      "source": [
        "y1 = z**2\n",
        "#this will not work\n",
        "y1.backward()"
      ]
    },
    {
      "cell_type": "code",
      "execution_count": 72,
      "metadata": {
        "colab": {
          "base_uri": "https://localhost:8080/"
        },
        "id": "JUzciuJ8YCdb",
        "outputId": "b7fa75c0-0823-4c68-d92d-56aef24acfdf"
      },
      "outputs": [
        {
          "data": {
            "text/plain": [
              "<torch.autograd.grad_mode.no_grad at 0x7c11e587d210>"
            ]
          },
          "execution_count": 72,
          "metadata": {},
          "output_type": "execute_result"
        }
      ],
      "source": [
        "torch.no_grad()"
      ]
    }
  ],
  "metadata": {
    "colab": {
      "provenance": []
    },
    "kernelspec": {
      "display_name": "Python 3",
      "name": "python3"
    },
    "language_info": {
      "name": "python"
    }
  },
  "nbformat": 4,
  "nbformat_minor": 0
}
