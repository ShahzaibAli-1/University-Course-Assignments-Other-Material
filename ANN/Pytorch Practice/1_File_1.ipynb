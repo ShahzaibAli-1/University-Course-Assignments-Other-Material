{
 "cells": [
  {
   "cell_type": "code",
   "execution_count": 2,
   "metadata": {},
   "outputs": [],
   "source": [
    "import torch"
   ]
  },
  {
   "cell_type": "markdown",
   "metadata": {},
   "source": [
    "## Tensors Explanation from 1D to mulitdimensions\n",
    "1. Scalar: A single value e.g loss value calculation after forward pass\n",
    "2. Vectors: (1-D tensors) Represents sequence of collection of values eg. word embeddings\n",
    "3. Matrices: (2-D tensors) Represents tabular or grid like data e.g normal csv file data or grayscale image\n",
    "4. 3D Tensors: (Coloured Images) Adds a 3rd Dimension often use for stacking data e.g RGB images\n",
    "5. 4D Tensors: (Batches of Images) Adds batch size additional dimension to 3D data e.g batch of RGB image\n",
    "6. 5D Tensors: (Video data) Add a time dimension that changes over time e.g video frames example A batch of 10 video clips with 16 frames and size of 64*64 and 3 RGB chanels [10, 16,64,64,3]"
   ]
  },
  {
   "cell_type": "code",
   "execution_count": null,
   "metadata": {},
   "outputs": [],
   "source": []
  }
 ],
 "metadata": {
  "kernelspec": {
   "display_name": "Python 3",
   "language": "python",
   "name": "python3"
  },
  "language_info": {
   "codemirror_mode": {
    "name": "ipython",
    "version": 3
   },
   "file_extension": ".py",
   "mimetype": "text/x-python",
   "name": "python",
   "nbconvert_exporter": "python",
   "pygments_lexer": "ipython3",
   "version": "3.10.7"
  }
 },
 "nbformat": 4,
 "nbformat_minor": 2
}
