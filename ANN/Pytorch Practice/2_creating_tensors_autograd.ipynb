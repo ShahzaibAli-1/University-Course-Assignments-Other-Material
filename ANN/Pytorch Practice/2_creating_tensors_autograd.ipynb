{
  "nbformat": 4,
  "nbformat_minor": 0,
  "metadata": {
    "colab": {
      "provenance": []
    },
    "kernelspec": {
      "name": "python3",
      "display_name": "Python 3"
    },
    "language_info": {
      "name": "python"
    }
  },
  "cells": [
    {
      "cell_type": "code",
      "source": [
        "import torch\n",
        "print(torch.__version__)"
      ],
      "metadata": {
        "colab": {
          "base_uri": "https://localhost:8080/"
        },
        "id": "2oHEyUmJl3Pg",
        "outputId": "b3fbb076-7f80-4d3e-ee89-3ea2bb648b06"
      },
      "execution_count": 1,
      "outputs": [
        {
          "output_type": "stream",
          "name": "stdout",
          "text": [
            "2.6.0+cu124\n"
          ]
        }
      ]
    },
    {
      "cell_type": "code",
      "source": [
        "if torch.cuda.is_available():\n",
        "    print(\"CUDA is available\")\n",
        "else:\n",
        "    print(\"CUDA is not available\")"
      ],
      "metadata": {
        "colab": {
          "base_uri": "https://localhost:8080/"
        },
        "id": "vB5lNXl_mAAn",
        "outputId": "a06e82ba-89f7-4ed1-d302-7bacb98c5d05"
      },
      "execution_count": 2,
      "outputs": [
        {
          "output_type": "stream",
          "name": "stdout",
          "text": [
            "CUDA is not available\n"
          ]
        }
      ]
    },
    {
      "cell_type": "markdown",
      "source": [
        "## Creating a Tensor"
      ],
      "metadata": {
        "id": "UOymi72jmMYX"
      }
    },
    {
      "cell_type": "code",
      "source": [
        "a= torch.empty(2,3)\n",
        "#it creates space in memory and shows already existing values in this space\n",
        "print(a)"
      ],
      "metadata": {
        "colab": {
          "base_uri": "https://localhost:8080/"
        },
        "id": "ZJAAaPf9mECe",
        "outputId": "f2e85c51-3d19-4100-f8c7-67d68ccbef09"
      },
      "execution_count": 7,
      "outputs": [
        {
          "output_type": "stream",
          "name": "stdout",
          "text": [
            "tensor([[1.6450e-33, 0.0000e+00, 1.6449e-33],\n",
            "        [0.0000e+00, 2.7606e-43, 2.8026e-43]])\n"
          ]
        }
      ]
    },
    {
      "cell_type": "code",
      "source": [
        "type(a)"
      ],
      "metadata": {
        "colab": {
          "base_uri": "https://localhost:8080/"
        },
        "id": "3XZp2EBUmyad",
        "outputId": "461733bd-d6f8-4244-9371-9fab405af271"
      },
      "execution_count": 6,
      "outputs": [
        {
          "output_type": "execute_result",
          "data": {
            "text/plain": [
              "torch.Tensor"
            ]
          },
          "metadata": {},
          "execution_count": 6
        }
      ]
    },
    {
      "cell_type": "code",
      "source": [
        "torch.zeros(2,3)"
      ],
      "metadata": {
        "colab": {
          "base_uri": "https://localhost:8080/"
        },
        "id": "MTwsSUz-m7vv",
        "outputId": "e893a882-42f7-4732-ab7f-b20194879b97"
      },
      "execution_count": 9,
      "outputs": [
        {
          "output_type": "execute_result",
          "data": {
            "text/plain": [
              "tensor([[0., 0., 0.],\n",
              "        [0., 0., 0.]])"
            ]
          },
          "metadata": {},
          "execution_count": 9
        }
      ]
    },
    {
      "cell_type": "code",
      "source": [
        "torch.rand(2,3)"
      ],
      "metadata": {
        "colab": {
          "base_uri": "https://localhost:8080/"
        },
        "id": "9xOOiK3inA4A",
        "outputId": "b8443466-5a74-4d90-a1b4-13ee1af5e6cc"
      },
      "execution_count": 10,
      "outputs": [
        {
          "output_type": "execute_result",
          "data": {
            "text/plain": [
              "tensor([[0.1164, 0.4851, 0.7005],\n",
              "        [0.4922, 0.9660, 0.8222]])"
            ]
          },
          "metadata": {},
          "execution_count": 10
        }
      ]
    },
    {
      "cell_type": "code",
      "source": [
        "torch.manual_seed(100)\n",
        " # used in case if someone want's to use this notebook and wants same random values\n",
        "torch.rand(2,3)"
      ],
      "metadata": {
        "colab": {
          "base_uri": "https://localhost:8080/"
        },
        "id": "YgllPXsbnRpq",
        "outputId": "aa4ed63f-49d6-4948-c7c6-6a1375f98fd6"
      },
      "execution_count": 12,
      "outputs": [
        {
          "output_type": "execute_result",
          "data": {
            "text/plain": [
              "tensor([[0.1117, 0.8158, 0.2626],\n",
              "        [0.4839, 0.6765, 0.7539]])"
            ]
          },
          "metadata": {},
          "execution_count": 12
        }
      ]
    },
    {
      "cell_type": "code",
      "source": [
        "# creating a manual tensor\n",
        "torch.tensor([[1,2,3], [4,5,6]])\n"
      ],
      "metadata": {
        "colab": {
          "base_uri": "https://localhost:8080/"
        },
        "id": "9X35bFPknhoN",
        "outputId": "5fea6d5e-36a9-4242-a876-e6fe7393b7d3"
      },
      "execution_count": 14,
      "outputs": [
        {
          "output_type": "execute_result",
          "data": {
            "text/plain": [
              "tensor([[1, 2, 3],\n",
              "        [4, 5, 6]])"
            ]
          },
          "metadata": {},
          "execution_count": 14
        }
      ]
    },
    {
      "cell_type": "code",
      "source": [
        "# can also create tensors using\n",
        "\n",
        "#arange\n",
        "print(\"using arange ->\", torch.arange(0,10))\n",
        "\n",
        "#using linspace\n",
        "print(\"using linspace ->\", torch.linspace(0,10,10))\n",
        "\n",
        "#using eye\n",
        "print(\"using eye=> \",torch.eye(5) ) #creating identity matrix\n",
        "\n",
        "#using full\n",
        "print(\"using full->\", torch.full((3,3),5)) #creates a matrix with given value"
      ],
      "metadata": {
        "colab": {
          "base_uri": "https://localhost:8080/"
        },
        "id": "S3jPytzXn0OP",
        "outputId": "789262b4-2c51-4235-cbd3-0f3e378a1552"
      },
      "execution_count": 15,
      "outputs": [
        {
          "output_type": "stream",
          "name": "stdout",
          "text": [
            "using arange -> tensor([0, 1, 2, 3, 4, 5, 6, 7, 8, 9])\n",
            "using linspace -> tensor([ 0.0000,  1.1111,  2.2222,  3.3333,  4.4444,  5.5556,  6.6667,  7.7778,\n",
            "         8.8889, 10.0000])\n",
            "using eye=>  tensor([[1., 0., 0., 0., 0.],\n",
            "        [0., 1., 0., 0., 0.],\n",
            "        [0., 0., 1., 0., 0.],\n",
            "        [0., 0., 0., 1., 0.],\n",
            "        [0., 0., 0., 0., 1.]])\n",
            "using full-> tensor([[5, 5, 5],\n",
            "        [5, 5, 5],\n",
            "        [5, 5, 5]])\n"
          ]
        }
      ]
    },
    {
      "cell_type": "markdown",
      "source": [
        "## Tensor Shapes"
      ],
      "metadata": {
        "id": "kKKDxQ0uofpi"
      }
    },
    {
      "cell_type": "code",
      "source": [
        "x = torch.tensor([[1,2,3], [4,5,6]])\n",
        "print(x)\n",
        "print(x.shape)"
      ],
      "metadata": {
        "colab": {
          "base_uri": "https://localhost:8080/"
        },
        "id": "s-rw1EaRojFx",
        "outputId": "d2165402-8d53-42c1-a126-f59c6914d88a"
      },
      "execution_count": 17,
      "outputs": [
        {
          "output_type": "stream",
          "name": "stdout",
          "text": [
            "tensor([[1, 2, 3],\n",
            "        [4, 5, 6]])\n",
            "torch.Size([2, 3])\n"
          ]
        }
      ]
    },
    {
      "cell_type": "code",
      "source": [
        "#will create same shape tensor of given tensor but with different values\n",
        "torch.empty_like(x)"
      ],
      "metadata": {
        "colab": {
          "base_uri": "https://localhost:8080/"
        },
        "id": "937Z8F5eopcK",
        "outputId": "370744be-f40e-4188-96d6-248e59835c7d"
      },
      "execution_count": 18,
      "outputs": [
        {
          "output_type": "execute_result",
          "data": {
            "text/plain": [
              "tensor([[              0,       152416224,       125161296],\n",
              "        [132686068016400,               0,               0]])"
            ]
          },
          "metadata": {},
          "execution_count": 18
        }
      ]
    },
    {
      "cell_type": "code",
      "source": [
        "#will create same shape tensor of given tensor but with zeros\n",
        "torch.zeros_like(x)"
      ],
      "metadata": {
        "colab": {
          "base_uri": "https://localhost:8080/"
        },
        "id": "wxJTrTCgpPXM",
        "outputId": "6412d64a-07de-4805-84d7-db070d9be596"
      },
      "execution_count": 19,
      "outputs": [
        {
          "output_type": "execute_result",
          "data": {
            "text/plain": [
              "tensor([[0, 0, 0],\n",
              "        [0, 0, 0]])"
            ]
          },
          "metadata": {},
          "execution_count": 19
        }
      ]
    },
    {
      "cell_type": "code",
      "source": [
        "#will create same shape tensor of given tensor but with ones\n",
        "torch.ones_like(x)"
      ],
      "metadata": {
        "colab": {
          "base_uri": "https://localhost:8080/"
        },
        "id": "KyhP6yWVpUGQ",
        "outputId": "ae329387-569f-4400-abcd-dcf73a6d3585"
      },
      "execution_count": 20,
      "outputs": [
        {
          "output_type": "execute_result",
          "data": {
            "text/plain": [
              "tensor([[1, 1, 1],\n",
              "        [1, 1, 1]])"
            ]
          },
          "metadata": {},
          "execution_count": 20
        }
      ]
    },
    {
      "cell_type": "code",
      "source": [
        "torch.rand_like(x)\n",
        "# will create error because of data type ="
      ],
      "metadata": {
        "colab": {
          "base_uri": "https://localhost:8080/",
          "height": 158
        },
        "id": "sVYFOr3Mpe1L",
        "outputId": "6ab663d8-dee4-4a5b-cbcb-98a88008a68e"
      },
      "execution_count": 26,
      "outputs": [
        {
          "output_type": "error",
          "ename": "RuntimeError",
          "evalue": "\"check_uniform_bounds\" not implemented for 'Long'",
          "traceback": [
            "\u001b[0;31m---------------------------------------------------------------------------\u001b[0m",
            "\u001b[0;31mRuntimeError\u001b[0m                              Traceback (most recent call last)",
            "\u001b[0;32m<ipython-input-26-e6b0d5c4ea14>\u001b[0m in \u001b[0;36m<cell line: 0>\u001b[0;34m()\u001b[0m\n\u001b[0;32m----> 1\u001b[0;31m \u001b[0mtorch\u001b[0m\u001b[0;34m.\u001b[0m\u001b[0mrand_like\u001b[0m\u001b[0;34m(\u001b[0m\u001b[0mx\u001b[0m\u001b[0;34m)\u001b[0m\u001b[0;34m\u001b[0m\u001b[0;34m\u001b[0m\u001b[0m\n\u001b[0m\u001b[1;32m      2\u001b[0m \u001b[0;31m# will create error because of data type =\u001b[0m\u001b[0;34m\u001b[0m\u001b[0;34m\u001b[0m\u001b[0m\n",
            "\u001b[0;31mRuntimeError\u001b[0m: \"check_uniform_bounds\" not implemented for 'Long'"
          ]
        }
      ]
    },
    {
      "cell_type": "code",
      "source": [
        "# fixed error\n",
        "torch.rand_like(x, dtype= torch.float32)"
      ],
      "metadata": {
        "colab": {
          "base_uri": "https://localhost:8080/"
        },
        "id": "8RlrMwy7q5zt",
        "outputId": "29d0ea26-f88a-431d-8ca7-0ead5ce20c8f"
      },
      "execution_count": 27,
      "outputs": [
        {
          "output_type": "execute_result",
          "data": {
            "text/plain": [
              "tensor([[0.2627, 0.0428, 0.2080],\n",
              "        [0.1180, 0.1217, 0.7356]])"
            ]
          },
          "metadata": {},
          "execution_count": 27
        }
      ]
    },
    {
      "cell_type": "markdown",
      "source": [
        "## Tensor Data Types"
      ],
      "metadata": {
        "id": "6kIKhJjJptiB"
      }
    },
    {
      "cell_type": "code",
      "source": [
        "# find data type\n",
        "x.dtype"
      ],
      "metadata": {
        "colab": {
          "base_uri": "https://localhost:8080/"
        },
        "id": "VCoS27VzpxIb",
        "outputId": "a32e38f5-2440-4c32-ec14-9a22b56f7592"
      },
      "execution_count": 22,
      "outputs": [
        {
          "output_type": "execute_result",
          "data": {
            "text/plain": [
              "torch.int64"
            ]
          },
          "metadata": {},
          "execution_count": 22
        }
      ]
    },
    {
      "cell_type": "code",
      "source": [
        "torch.tensor([1.0,2.0,3.0],dtype=torch.int32)"
      ],
      "metadata": {
        "colab": {
          "base_uri": "https://localhost:8080/"
        },
        "id": "JmBuiercp4M3",
        "outputId": "3e1b0689-485e-4424-ee88-6423e886360d"
      },
      "execution_count": 24,
      "outputs": [
        {
          "output_type": "execute_result",
          "data": {
            "text/plain": [
              "tensor([1, 2, 3], dtype=torch.int32)"
            ]
          },
          "metadata": {},
          "execution_count": 24
        }
      ]
    },
    {
      "cell_type": "code",
      "source": [
        "# changing data type usign to\n",
        "x.to(torch.float32)"
      ],
      "metadata": {
        "colab": {
          "base_uri": "https://localhost:8080/"
        },
        "id": "OXJDsy7iqCiZ",
        "outputId": "ad463456-0044-4f3e-9e40-d33205089c01"
      },
      "execution_count": 25,
      "outputs": [
        {
          "output_type": "execute_result",
          "data": {
            "text/plain": [
              "tensor([[1., 2., 3.],\n",
              "        [4., 5., 6.]])"
            ]
          },
          "metadata": {},
          "execution_count": 25
        }
      ]
    },
    {
      "cell_type": "markdown",
      "source": [
        "## Mathematical Operations"
      ],
      "metadata": {
        "id": "1ZEuyrufqWwB"
      }
    },
    {
      "cell_type": "markdown",
      "source": [
        "### 1. Scalar Operations"
      ],
      "metadata": {
        "id": "TgapCgGHrP3O"
      }
    },
    {
      "cell_type": "code",
      "source": [
        "x = torch.rand(2,2)"
      ],
      "metadata": {
        "id": "tgFWUSxIrMmM"
      },
      "execution_count": 28,
      "outputs": []
    },
    {
      "cell_type": "code",
      "source": [
        "# addition\n",
        "x+2\n",
        "# subtraction\n",
        "x-2\n",
        "# multiplication\n",
        "x*3\n",
        "# division\n",
        "x/3\n",
        "# int division\n",
        "(x*100)//3\n",
        "\n",
        "#mod\n",
        "(((x*100))//3) %2\n",
        "\n",
        "# power\n",
        "x**2"
      ],
      "metadata": {
        "colab": {
          "base_uri": "https://localhost:8080/"
        },
        "id": "EqgPqcuPqLgn",
        "outputId": "bc467869-8885-490c-c9de-592dbba8360e"
      },
      "execution_count": 29,
      "outputs": [
        {
          "output_type": "execute_result",
          "data": {
            "text/plain": [
              "tensor([[0.5066, 0.6203],\n",
              "        [0.1750, 0.8125]])"
            ]
          },
          "metadata": {},
          "execution_count": 29
        }
      ]
    },
    {
      "cell_type": "markdown",
      "source": [
        "## Element wise operation"
      ],
      "metadata": {
        "id": "YiBdx5hyry-5"
      }
    },
    {
      "cell_type": "code",
      "source": [
        "a = torch.rand(2,3)\n",
        "b = torch.rand(2,3)\n",
        "print(a)\n",
        "print(b)"
      ],
      "metadata": {
        "colab": {
          "base_uri": "https://localhost:8080/"
        },
        "id": "JKxD3LS-r1vF",
        "outputId": "dd96c571-2616-4f87-b909-035ad8c13982"
      },
      "execution_count": 30,
      "outputs": [
        {
          "output_type": "stream",
          "name": "stdout",
          "text": [
            "tensor([[0.9969, 0.7565, 0.2239],\n",
            "        [0.3023, 0.1784, 0.8238]])\n",
            "tensor([[0.5557, 0.9770, 0.4440],\n",
            "        [0.9478, 0.7445, 0.4892]])\n"
          ]
        }
      ]
    },
    {
      "cell_type": "code",
      "source": [
        "# add\n",
        "a + b\n",
        "# sub\n",
        "a-b\n",
        "# mul\n",
        "a*b\n",
        "# divide\n",
        "a/b\n",
        "# power\n",
        "a**b\n",
        "#mod\n",
        "a%b"
      ],
      "metadata": {
        "colab": {
          "base_uri": "https://localhost:8080/"
        },
        "id": "44HmAvzZr-el",
        "outputId": "8edd8276-e5ba-43ff-d443-c0f1f8d003b3"
      },
      "execution_count": 32,
      "outputs": [
        {
          "output_type": "execute_result",
          "data": {
            "text/plain": [
              "tensor([[0.4411, 0.7565, 0.2239],\n",
              "        [0.3023, 0.1784, 0.3346]])"
            ]
          },
          "metadata": {},
          "execution_count": 32
        }
      ]
    },
    {
      "cell_type": "code",
      "source": [
        "# abs\n",
        "torch.abs(x)"
      ],
      "metadata": {
        "colab": {
          "base_uri": "https://localhost:8080/"
        },
        "id": "wO9WgHOisbCm",
        "outputId": "b8bcccf3-fe5e-4785-d9a2-a33c518740fe"
      },
      "execution_count": 33,
      "outputs": [
        {
          "output_type": "execute_result",
          "data": {
            "text/plain": [
              "tensor([[0.7118, 0.7876],\n",
              "        [0.4183, 0.9014]])"
            ]
          },
          "metadata": {},
          "execution_count": 33
        }
      ]
    },
    {
      "cell_type": "code",
      "source": [
        "#negative\n",
        "c = torch.rand(2,3)\n",
        "torch.neg(c)\n",
        "#round\n",
        "d = torch.rand(2,3)\n",
        "torch.round(d)\n",
        "# #ceil\n",
        "# torch.ceil(d)\n",
        "# #floor\n",
        "# torch.floor(d)\n",
        "torch.clamp(d,min=0.5, max=1)"
      ],
      "metadata": {
        "colab": {
          "base_uri": "https://localhost:8080/"
        },
        "id": "Q2m8jx8QseLH",
        "outputId": "0b21014e-fc53-4da1-c790-f57ff1150bda"
      },
      "execution_count": 42,
      "outputs": [
        {
          "output_type": "execute_result",
          "data": {
            "text/plain": [
              "tensor([[0.5000, 0.5000, 0.5000],\n",
              "        [0.9753, 0.7582, 0.6688]])"
            ]
          },
          "metadata": {},
          "execution_count": 42
        }
      ]
    },
    {
      "cell_type": "markdown",
      "source": [
        "## Reduction Operator"
      ],
      "metadata": {
        "id": "BfTWTeZ-tqzn"
      }
    },
    {
      "cell_type": "code",
      "source": [
        "e = torch.randint(size=(2,3), low=0, high = 10, dtype = torch.float32)\n",
        "e"
      ],
      "metadata": {
        "colab": {
          "base_uri": "https://localhost:8080/"
        },
        "id": "12wz72JUtnez",
        "outputId": "5a8e9c84-47d9-48dd-92a2-b170290953a8"
      },
      "execution_count": 46,
      "outputs": [
        {
          "output_type": "execute_result",
          "data": {
            "text/plain": [
              "tensor([[4., 4., 6.],\n",
              "        [2., 1., 0.]])"
            ]
          },
          "metadata": {},
          "execution_count": 46
        }
      ]
    },
    {
      "cell_type": "code",
      "source": [
        "#sum\n",
        "print(torch.sum(e))\n",
        "#sum along columns)\n",
        "print(torch.sum(e, dim=0))\n",
        "#sum along rows\n",
        "print(torch.sum(e, dim=1))"
      ],
      "metadata": {
        "colab": {
          "base_uri": "https://localhost:8080/"
        },
        "id": "i8Lkj870t09K",
        "outputId": "f8b40b4e-bdbe-41e8-9a30-45221f7c5cd5"
      },
      "execution_count": 45,
      "outputs": [
        {
          "output_type": "stream",
          "name": "stdout",
          "text": [
            "tensor(27)\n",
            "tensor([14,  9,  4])\n",
            "tensor([18,  9])\n"
          ]
        }
      ]
    },
    {
      "cell_type": "code",
      "source": [
        "#mean\n",
        "print(torch.mean(e))\n",
        "#median\n",
        "print(torch.median(e))\n",
        "#max and min\n",
        "print(torch.max(e))\n",
        "print(torch.min(e))\n",
        "#std\n",
        "print(torch.std(e))\n",
        "#variance\n",
        "print(torch.var(e))\n",
        "#product\n",
        "print(torch.prod(e))\n",
        "#cummulative sum\n",
        "print(torch.cumsum(e,dim=0))\n",
        "#cummulative product\n",
        "print(torch.cumprod(e,dim=0))\n",
        "print(torch.argmin(e))\n",
        "print(torch.argmax(e))"
      ],
      "metadata": {
        "colab": {
          "base_uri": "https://localhost:8080/"
        },
        "id": "Mg00bokWuUV0",
        "outputId": "17bf1751-505b-4bc4-c500-7691f789bb9e"
      },
      "execution_count": 51,
      "outputs": [
        {
          "output_type": "stream",
          "name": "stdout",
          "text": [
            "tensor(2.8333)\n",
            "tensor(2.)\n",
            "tensor(6.)\n",
            "tensor(0.)\n",
            "tensor(2.2286)\n",
            "tensor(4.9667)\n",
            "tensor(0.)\n",
            "tensor([[4., 4., 6.],\n",
            "        [6., 5., 6.]])\n",
            "tensor([[4., 4., 6.],\n",
            "        [8., 4., 0.]])\n",
            "tensor(5)\n",
            "tensor(2)\n"
          ]
        }
      ]
    },
    {
      "cell_type": "markdown",
      "source": [
        "## Matrix Operations"
      ],
      "metadata": {
        "id": "SXcj50obvLk3"
      }
    },
    {
      "cell_type": "code",
      "source": [
        "f = torch.randint(size=(2,3), low=0, high =10)\n",
        "g = torch.randint(size=(3,2), low=0, high =10)\n"
      ],
      "metadata": {
        "colab": {
          "base_uri": "https://localhost:8080/"
        },
        "id": "KF5QiGCuvLAi",
        "outputId": "641551c4-433b-455a-fd09-522e05910531"
      },
      "execution_count": 52,
      "outputs": [
        {
          "output_type": "stream",
          "name": "stdout",
          "text": [
            "tensor([[5, 1, 0],\n",
            "        [0, 2, 2]])\n",
            "tensor([[3, 7],\n",
            "        [1, 5],\n",
            "        [0, 2]])\n"
          ]
        }
      ]
    },
    {
      "cell_type": "code",
      "source": [
        "# matrix multiplication\n",
        "l = torch.matmul(f,g)\n"
      ],
      "metadata": {
        "id": "I5cZ5mwLvZo3"
      },
      "execution_count": 65,
      "outputs": []
    },
    {
      "cell_type": "code",
      "source": [
        "vector_1 = torch.tensor([1,2])\n",
        "vector_2 = torch.tensor([3,4])\n",
        "\n",
        "torch.dot(vector_1,vector_2)"
      ],
      "metadata": {
        "colab": {
          "base_uri": "https://localhost:8080/"
        },
        "id": "y3OKrAeTvkL2",
        "outputId": "c580017e-3303-4330-f05a-fe9610d7476f"
      },
      "execution_count": 54,
      "outputs": [
        {
          "output_type": "execute_result",
          "data": {
            "text/plain": [
              "tensor(11)"
            ]
          },
          "metadata": {},
          "execution_count": 54
        }
      ]
    },
    {
      "cell_type": "code",
      "source": [
        "# transpose\n",
        "torch.transpose(f,0,1)"
      ],
      "metadata": {
        "colab": {
          "base_uri": "https://localhost:8080/"
        },
        "id": "O8PGUZKfvvpN",
        "outputId": "b3e3d452-4200-4675-d3b3-5e7ca057f972"
      },
      "execution_count": 56,
      "outputs": [
        {
          "output_type": "execute_result",
          "data": {
            "text/plain": [
              "tensor([[5, 0],\n",
              "        [1, 2],\n",
              "        [0, 2]])"
            ]
          },
          "metadata": {},
          "execution_count": 56
        }
      ]
    },
    {
      "cell_type": "code",
      "source": [
        "\n",
        "h = torch.randint(size=(4,4), low = 0, high =10, dtype=torch.float32)\n"
      ],
      "metadata": {
        "colab": {
          "base_uri": "https://localhost:8080/"
        },
        "id": "Hs7guExRv6tf",
        "outputId": "31e60614-819e-486d-dc65-7beda1e1053f"
      },
      "execution_count": 68,
      "outputs": [
        {
          "output_type": "execute_result",
          "data": {
            "text/plain": [
              "tensor([[6., 5., 4., 1.],\n",
              "        [1., 3., 9., 4.],\n",
              "        [7., 6., 6., 5.],\n",
              "        [1., 4., 2., 6.]])"
            ]
          },
          "metadata": {},
          "execution_count": 68
        }
      ]
    },
    {
      "cell_type": "code",
      "source": [
        "#determinat\n",
        "print(torch.det(h))\n",
        "print(torch.inverse(h))"
      ],
      "metadata": {
        "colab": {
          "base_uri": "https://localhost:8080/"
        },
        "id": "pDDer0U3wwdw",
        "outputId": "6689eb17-42a7-458a-9e67-82a017fc7a36"
      },
      "execution_count": 70,
      "outputs": [
        {
          "output_type": "stream",
          "name": "stdout",
          "text": [
            "tensor(501.0001)\n",
            "tensor([[-0.2275, -0.1078,  0.3832, -0.2096],\n",
            "        [ 0.5489,  0.0319, -0.5210,  0.3214],\n",
            "        [-0.0140,  0.1337,  0.0060, -0.0918],\n",
            "        [-0.3234, -0.0479,  0.2814,  0.0180]])\n"
          ]
        }
      ]
    },
    {
      "cell_type": "code",
      "source": [
        "#greater than\n",
        "vector_1>vector_2\n",
        "#less than\n",
        "vector_1<vector_2\n",
        "#not equal to\n",
        "vector_1!=vector_2\n"
      ],
      "metadata": {
        "colab": {
          "base_uri": "https://localhost:8080/"
        },
        "id": "bluEOUH7w74_",
        "outputId": "8c8946d6-bbd2-4066-eceb-4ad9079e3cad"
      },
      "execution_count": 76,
      "outputs": [
        {
          "output_type": "execute_result",
          "data": {
            "text/plain": [
              "tensor([True, True])"
            ]
          },
          "metadata": {},
          "execution_count": 76
        }
      ]
    },
    {
      "cell_type": "code",
      "source": [
        "#exp\n",
        "torch.exp(vector_1)\n",
        "#log\n",
        "torch.log(vector_1)\n",
        "#sqrt\n",
        "torch.sqrt(vector_1)\n",
        "#sigmoid\n",
        "torch.sigmoid(vector_1)\n",
        "#softmax\n",
        "torch.softmax(h, dim=0)\n",
        "#relu\n",
        "torch.relu(vector_1)\n",
        "#tanh\n",
        "torch.tanh(vector_1)\n",
        "#clamp\n",
        "torch.clamp(vector_1,min=0,max=1)"
      ],
      "metadata": {
        "colab": {
          "base_uri": "https://localhost:8080/"
        },
        "id": "RFl3VRhJxU2V",
        "outputId": "dbbabf4a-1a10-49b4-e93d-39e875899800"
      },
      "execution_count": 81,
      "outputs": [
        {
          "output_type": "execute_result",
          "data": {
            "text/plain": [
              "tensor([1, 1])"
            ]
          },
          "metadata": {},
          "execution_count": 81
        }
      ]
    },
    {
      "cell_type": "markdown",
      "source": [
        "## Inplace Operations"
      ],
      "metadata": {
        "id": "zOVDUy4ex1eu"
      }
    },
    {
      "cell_type": "code",
      "source": [
        "m = torch.rand(2,3)\n",
        "n = torch.rand(2,3)\n",
        "print(m)\n",
        "print(n)"
      ],
      "metadata": {
        "colab": {
          "base_uri": "https://localhost:8080/"
        },
        "id": "iN9MeEifxZxQ",
        "outputId": "09c890ce-1363-4b95-f438-af0fcd2bcce4"
      },
      "execution_count": 82,
      "outputs": [
        {
          "output_type": "stream",
          "name": "stdout",
          "text": [
            "tensor([[0.5301, 0.6401, 0.7954],\n",
            "        [0.3066, 0.2397, 0.1156]])\n",
            "tensor([[0.4839, 0.3944, 0.0801],\n",
            "        [0.7782, 0.6686, 0.2312]])\n"
          ]
        }
      ]
    },
    {
      "cell_type": "code",
      "source": [
        "m.add_(n) # will store result in m"
      ],
      "metadata": {
        "colab": {
          "base_uri": "https://localhost:8080/"
        },
        "id": "ut0LlLbgx-3Y",
        "outputId": "9ffa0c6f-2682-468a-f2ab-2c66390a0d3b"
      },
      "execution_count": 84,
      "outputs": [
        {
          "output_type": "execute_result",
          "data": {
            "text/plain": [
              "tensor([[1.0141, 1.0345, 0.8755],\n",
              "        [1.0849, 0.9082, 0.3468]])"
            ]
          },
          "metadata": {},
          "execution_count": 84
        }
      ]
    },
    {
      "cell_type": "code",
      "source": [
        "print(m)"
      ],
      "metadata": {
        "colab": {
          "base_uri": "https://localhost:8080/"
        },
        "id": "msXY2qSZyO2a",
        "outputId": "8dcdd8f2-5b5d-41a5-b32f-56d2463d6450"
      },
      "execution_count": 85,
      "outputs": [
        {
          "output_type": "stream",
          "name": "stdout",
          "text": [
            "tensor([[1.0141, 1.0345, 0.8755],\n",
            "        [1.0849, 0.9082, 0.3468]])\n"
          ]
        }
      ]
    },
    {
      "cell_type": "code",
      "source": [
        "n"
      ],
      "metadata": {
        "colab": {
          "base_uri": "https://localhost:8080/"
        },
        "id": "qGHQATsZyP_D",
        "outputId": "8275eba0-2e09-4ab8-c6c4-ff4e7de02693"
      },
      "execution_count": 86,
      "outputs": [
        {
          "output_type": "execute_result",
          "data": {
            "text/plain": [
              "tensor([[0.4839, 0.3944, 0.0801],\n",
              "        [0.7782, 0.6686, 0.2312]])"
            ]
          },
          "metadata": {},
          "execution_count": 86
        }
      ]
    },
    {
      "cell_type": "code",
      "source": [
        "torch.relu(m)"
      ],
      "metadata": {
        "colab": {
          "base_uri": "https://localhost:8080/"
        },
        "id": "PvS0YdtDyYEV",
        "outputId": "a3d00cf8-faf8-44b0-e0a2-64807970e57b"
      },
      "execution_count": 87,
      "outputs": [
        {
          "output_type": "execute_result",
          "data": {
            "text/plain": [
              "tensor([[1.0141, 1.0345, 0.8755],\n",
              "        [1.0849, 0.9082, 0.3468]])"
            ]
          },
          "metadata": {},
          "execution_count": 87
        }
      ]
    },
    {
      "cell_type": "code",
      "source": [
        "torch.relu(n)"
      ],
      "metadata": {
        "colab": {
          "base_uri": "https://localhost:8080/"
        },
        "id": "K2Ac8U3FyahJ",
        "outputId": "35d49359-c65c-4b3e-9277-1cabe5c93c6d"
      },
      "execution_count": 88,
      "outputs": [
        {
          "output_type": "execute_result",
          "data": {
            "text/plain": [
              "tensor([[0.4839, 0.3944, 0.0801],\n",
              "        [0.7782, 0.6686, 0.2312]])"
            ]
          },
          "metadata": {},
          "execution_count": 88
        }
      ]
    },
    {
      "cell_type": "markdown",
      "source": [
        "## Copying a tensor"
      ],
      "metadata": {
        "id": "39Ovy11oyrfb"
      }
    },
    {
      "cell_type": "code",
      "source": [
        "b = a.clone()"
      ],
      "metadata": {
        "id": "KTsNO62iytda"
      },
      "execution_count": 92,
      "outputs": []
    },
    {
      "cell_type": "code",
      "source": [
        "print(a)\n",
        "print(b)"
      ],
      "metadata": {
        "colab": {
          "base_uri": "https://localhost:8080/"
        },
        "id": "d-rGuha3zNew",
        "outputId": "41e58b99-63eb-4e8e-9f9c-3739dd8229e1"
      },
      "execution_count": 95,
      "outputs": [
        {
          "output_type": "stream",
          "name": "stdout",
          "text": [
            "tensor([[0.1164, 0.1921],\n",
            "        [0.2380, 0.1643]])\n",
            "tensor([[0.1164, 0.1921],\n",
            "        [0.2380, 0.1643]])\n"
          ]
        }
      ]
    },
    {
      "cell_type": "code",
      "source": [
        "torch.cuda.is_available()"
      ],
      "metadata": {
        "colab": {
          "base_uri": "https://localhost:8080/"
        },
        "id": "wOsRDcDSzRwl",
        "outputId": "3652c9aa-ad84-4361-b583-869f4d38b774"
      },
      "execution_count": 96,
      "outputs": [
        {
          "output_type": "execute_result",
          "data": {
            "text/plain": [
              "False"
            ]
          },
          "metadata": {},
          "execution_count": 96
        }
      ]
    },
    {
      "cell_type": "markdown",
      "source": [
        "## Reshaping Tensors"
      ],
      "metadata": {
        "id": "33rfceuK1rJA"
      }
    },
    {
      "cell_type": "code",
      "source": [
        "# reshape\n",
        "a = torch.ones(4,4)\n",
        "a"
      ],
      "metadata": {
        "colab": {
          "base_uri": "https://localhost:8080/"
        },
        "id": "kdmY9Wyo1tZi",
        "outputId": "3b36904d-2902-4e03-f476-90bce5c9607d"
      },
      "execution_count": 101,
      "outputs": [
        {
          "output_type": "execute_result",
          "data": {
            "text/plain": [
              "tensor([[1., 1., 1., 1.],\n",
              "        [1., 1., 1., 1.],\n",
              "        [1., 1., 1., 1.],\n",
              "        [1., 1., 1., 1.]])"
            ]
          },
          "metadata": {},
          "execution_count": 101
        }
      ]
    },
    {
      "cell_type": "code",
      "source": [
        "a.reshape(2,2,2,2)"
      ],
      "metadata": {
        "colab": {
          "base_uri": "https://localhost:8080/"
        },
        "id": "00UEHrwz12Cw",
        "outputId": "f8252dc8-2fe5-4abd-b113-0b493e0f3011"
      },
      "execution_count": 102,
      "outputs": [
        {
          "output_type": "execute_result",
          "data": {
            "text/plain": [
              "tensor([[[[1., 1.],\n",
              "          [1., 1.]],\n",
              "\n",
              "         [[1., 1.],\n",
              "          [1., 1.]]],\n",
              "\n",
              "\n",
              "        [[[1., 1.],\n",
              "          [1., 1.]],\n",
              "\n",
              "         [[1., 1.],\n",
              "          [1., 1.]]]])"
            ]
          },
          "metadata": {},
          "execution_count": 102
        }
      ]
    },
    {
      "cell_type": "code",
      "source": [
        "#flattening\n",
        "a.flatten"
      ],
      "metadata": {
        "colab": {
          "base_uri": "https://localhost:8080/"
        },
        "id": "fjEO0lY51-8k",
        "outputId": "0f6bad73-67e3-4dfe-860f-98bd1ee09d3c"
      },
      "execution_count": 103,
      "outputs": [
        {
          "output_type": "execute_result",
          "data": {
            "text/plain": [
              "<function Tensor.flatten>"
            ]
          },
          "metadata": {},
          "execution_count": 103
        }
      ]
    },
    {
      "cell_type": "code",
      "source": [
        "b = torch.rand(2,3,4)\n",
        "b"
      ],
      "metadata": {
        "colab": {
          "base_uri": "https://localhost:8080/"
        },
        "id": "3CQVkp_X2Eq7",
        "outputId": "92081066-3656-47ab-e8ea-f7e423fc2c45"
      },
      "execution_count": 104,
      "outputs": [
        {
          "output_type": "execute_result",
          "data": {
            "text/plain": [
              "tensor([[[0.1406, 0.2950, 0.3264, 0.4708],\n",
              "         [0.3978, 0.7055, 0.9162, 0.8060],\n",
              "         [0.7267, 0.8054, 0.1696, 0.2023]],\n",
              "\n",
              "        [[0.9194, 0.0151, 0.0324, 0.9538],\n",
              "         [0.5564, 0.7567, 0.1573, 0.3969],\n",
              "         [0.2381, 0.1268, 0.4460, 0.0370]]])"
            ]
          },
          "metadata": {},
          "execution_count": 104
        }
      ]
    },
    {
      "cell_type": "code",
      "source": [
        "#permute\n",
        "b = torch.rand(2,3,4)\n",
        "b"
      ],
      "metadata": {
        "colab": {
          "base_uri": "https://localhost:8080/"
        },
        "id": "X2PaAbJG2HGX",
        "outputId": "76975076-523a-4188-ddae-7bfccbca0f72"
      },
      "execution_count": 106,
      "outputs": [
        {
          "output_type": "execute_result",
          "data": {
            "text/plain": [
              "tensor([[[0.6442, 0.8108, 0.2550, 0.8608],\n",
              "         [0.8250, 0.2236, 0.0772, 0.4818],\n",
              "         [0.0776, 0.0531, 0.2610, 0.1068]],\n",
              "\n",
              "        [[0.3011, 0.4587, 0.5222, 0.0683],\n",
              "         [0.9118, 0.8286, 0.1635, 0.1775],\n",
              "         [0.7163, 0.9355, 0.1430, 0.3933]]])"
            ]
          },
          "metadata": {},
          "execution_count": 106
        }
      ]
    },
    {
      "cell_type": "code",
      "source": [
        "#permuting it\n",
        "b.permute(2,0,1)\n",
        "# will change the seqeunce of dimensions"
      ],
      "metadata": {
        "colab": {
          "base_uri": "https://localhost:8080/"
        },
        "id": "zvq0xKyj2Pf9",
        "outputId": "08d5315f-78b5-4871-90d5-7acf6936319b"
      },
      "execution_count": 109,
      "outputs": [
        {
          "output_type": "execute_result",
          "data": {
            "text/plain": [
              "tensor([[[0.6442, 0.8250, 0.0776],\n",
              "         [0.3011, 0.9118, 0.7163]],\n",
              "\n",
              "        [[0.8108, 0.2236, 0.0531],\n",
              "         [0.4587, 0.8286, 0.9355]],\n",
              "\n",
              "        [[0.2550, 0.0772, 0.2610],\n",
              "         [0.5222, 0.1635, 0.1430]],\n",
              "\n",
              "        [[0.8608, 0.4818, 0.1068],\n",
              "         [0.0683, 0.1775, 0.3933]]])"
            ]
          },
          "metadata": {},
          "execution_count": 109
        }
      ]
    },
    {
      "cell_type": "code",
      "source": [
        "#unsqueeze\n",
        "#will use to add a new dimension at given index\n",
        "c= torch.rand(226,226,3)\n",
        "print(c.unsqueeze(1).shape)\n",
        "print(c.unsqueeze(0).shape )\n"
      ],
      "metadata": {
        "colab": {
          "base_uri": "https://localhost:8080/"
        },
        "id": "yXymG2RQ2cs8",
        "outputId": "918f03b6-f951-476d-d68b-553c0f09139b"
      },
      "execution_count": 112,
      "outputs": [
        {
          "output_type": "stream",
          "name": "stdout",
          "text": [
            "torch.Size([226, 1, 226, 3])\n",
            "torch.Size([1, 226, 226, 3])\n"
          ]
        }
      ]
    },
    {
      "cell_type": "code",
      "source": [
        "#squeez\n",
        "d = torch.rand(1,20)\n",
        "d.squeeze(0).shape"
      ],
      "metadata": {
        "colab": {
          "base_uri": "https://localhost:8080/"
        },
        "id": "kPMQrcl922jg",
        "outputId": "3690ac6b-d9d1-4f0c-be63-fa0e4e5bdbf8"
      },
      "execution_count": 114,
      "outputs": [
        {
          "output_type": "execute_result",
          "data": {
            "text/plain": [
              "torch.Size([20])"
            ]
          },
          "metadata": {},
          "execution_count": 114
        }
      ]
    },
    {
      "cell_type": "markdown",
      "source": [
        "## Numpy and Pytorch"
      ],
      "metadata": {
        "id": "CiEGP63j3BJT"
      }
    },
    {
      "cell_type": "code",
      "source": [
        "import numpy as np"
      ],
      "metadata": {
        "id": "HyhsVjdH2_br"
      },
      "execution_count": 115,
      "outputs": []
    },
    {
      "cell_type": "code",
      "source": [
        "a = torch.tensor([1,2,3])\n",
        "a"
      ],
      "metadata": {
        "colab": {
          "base_uri": "https://localhost:8080/"
        },
        "id": "peNyt7q73Evd",
        "outputId": "7c0ac6a1-383c-4132-f0d1-5afde0388c8f"
      },
      "execution_count": 116,
      "outputs": [
        {
          "output_type": "execute_result",
          "data": {
            "text/plain": [
              "tensor([1, 2, 3])"
            ]
          },
          "metadata": {},
          "execution_count": 116
        }
      ]
    },
    {
      "cell_type": "code",
      "source": [
        "b = a.numpy()\n",
        "b"
      ],
      "metadata": {
        "colab": {
          "base_uri": "https://localhost:8080/"
        },
        "id": "nJCxGwC63I03",
        "outputId": "4c3ebad8-c94a-47fa-efbc-c1e4a5ca063a"
      },
      "execution_count": 118,
      "outputs": [
        {
          "output_type": "execute_result",
          "data": {
            "text/plain": [
              "array([1, 2, 3])"
            ]
          },
          "metadata": {},
          "execution_count": 118
        }
      ]
    },
    {
      "cell_type": "code",
      "source": [
        "type(b)"
      ],
      "metadata": {
        "colab": {
          "base_uri": "https://localhost:8080/"
        },
        "id": "AR7IiVMW3O93",
        "outputId": "26b422a3-fa28-40ad-8640-100af3be5942"
      },
      "execution_count": 119,
      "outputs": [
        {
          "output_type": "execute_result",
          "data": {
            "text/plain": [
              "numpy.ndarray"
            ]
          },
          "metadata": {},
          "execution_count": 119
        }
      ]
    },
    {
      "cell_type": "code",
      "source": [
        "c = np.array([1,2,3])"
      ],
      "metadata": {
        "id": "imXCSObC3Ree"
      },
      "execution_count": 122,
      "outputs": []
    },
    {
      "cell_type": "code",
      "source": [
        "torch.from_numpy(c)"
      ],
      "metadata": {
        "colab": {
          "base_uri": "https://localhost:8080/"
        },
        "id": "4R_sjtCI3clt",
        "outputId": "95a8c188-4581-4ee7-d02b-d8e676c75be3"
      },
      "execution_count": 123,
      "outputs": [
        {
          "output_type": "execute_result",
          "data": {
            "text/plain": [
              "tensor([1, 2, 3])"
            ]
          },
          "metadata": {},
          "execution_count": 123
        }
      ]
    }
  ]
}